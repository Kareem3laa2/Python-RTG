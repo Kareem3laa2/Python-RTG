{
 "cells": [
  {
   "cell_type": "code",
   "execution_count": 1,
   "metadata": {},
   "outputs": [],
   "source": [
    "import requests\n",
    "from bs4 import BeautifulSoup"
   ]
  },
  {
   "cell_type": "code",
   "execution_count": 2,
   "metadata": {},
   "outputs": [],
   "source": [
    "response = requests.get('https://www.yallakora.com/Match-Center/?date=18/21/2023')\n",
    "\n",
    "content = response.content\n"
   ]
  },
  {
   "cell_type": "code",
   "execution_count": 3,
   "metadata": {},
   "outputs": [],
   "source": [
    "# Parsing\n",
    "soup = BeautifulSoup(content,'lxml')\n"
   ]
  },
  {
   "cell_type": "code",
   "execution_count": 4,
   "metadata": {},
   "outputs": [
    {
     "data": {
      "text/plain": [
       "15"
      ]
     },
     "execution_count": 4,
     "metadata": {},
     "output_type": "execute_result"
    }
   ],
   "source": [
    "championships = soup.find_all('div',{'class':'matchCard'})\n",
    "\n",
    "len(championships)\n"
   ]
  },
  {
   "cell_type": "code",
   "execution_count": 5,
   "metadata": {},
   "outputs": [
    {
     "name": "stdout",
     "output_type": "stream",
     "text": [
      "كأس العالم لكرة السلة\n",
      "الدوري الإنجليزي\n",
      "الدوري الإسباني\n",
      "البطولة العربية للأندية لكرة اليد\n",
      "الدوري الإيطالي\n",
      "الدوري الألماني\n",
      "الدوري الفرنسي\n",
      "دوري أبطال إفريقيا\n",
      "الكونفيدرالية الإفريقية\n",
      "الدوري التركي\n",
      "الدوري التونسي\n",
      "الدوري المغربي\n",
      "الدوري البرتغالي\n",
      "دوري نجوم قطر\n",
      "الدوري الإماراتي\n"
     ]
    }
   ],
   "source": [
    "championship_title = championships[0].contents[1].find('h2').text.strip()\n",
    "\n",
    "for i in range (len(championships)):\n",
    "    print(championships[i].contents[1].find('h2').text.strip())\n",
    "\n"
   ]
  },
  {
   "cell_type": "code",
   "execution_count": 6,
   "metadata": {},
   "outputs": [
    {
     "name": "stdout",
     "output_type": "stream",
     "text": [
      "8\n"
     ]
    }
   ],
   "source": [
    "matches = championships[0].contents[3].find_all('li')\n",
    "\n",
    "print(len(matches))\n"
   ]
  },
  {
   "cell_type": "code",
   "execution_count": 9,
   "metadata": {},
   "outputs": [],
   "source": [
    "for i in range (len(matches)):\n",
    "    teamA = matches[i].find('div',{'class' : 'teamA'}).text.strip()\n",
    "    \n",
    "    teamB = matches[i].find('div',{'class' : 'teamA'}).text.strip()\n",
    "    \n",
    "    result = matches[i].find('div', {'class':'MResult'}).find_all('span', {'class':'score'})\n",
    "    score = f'{result[0].text.strip()} - {result[1].text.strip()}'\n",
    "    \n",
    "    time = matches[i].find('span',{'class' : 'time'}).text.strip()\n",
    "    \n",
    "    channel = matches[i].find('div',{'class':'channel'}).text.strip()"
   ]
  },
  {
   "cell_type": "code",
   "execution_count": 11,
   "metadata": {},
   "outputs": [
    {
     "name": "stdout",
     "output_type": "stream",
     "text": [
      "بى ان سبورت 4 HD\n",
      "إيطاليا 71 - 83 الدومينيكان\n",
      "11:00\n",
      "بى ان سبورت 3 HD\n",
      "أستراليا 66 - 62 ألمانيا\n",
      "11:30\n",
      "بى ان سبورت 1HD\n",
      "الجبل الاسود 68 - 50 مصر\n",
      "11:45\n",
      "بى ان سبورت 6 HD\n",
      "لبنان - - - كندا\n",
      "12:45\n",
      "بى ان سبورت 1HD\n",
      "الفلبين - - - أنجولا\n",
      "15:00\n",
      "بى ان سبورت HD\n",
      "اليابان - - - فنلندا\n",
      "15:10\n",
      "بى ان سبورت 7 HD\n",
      "ليتوانيا - - - المكسيك\n",
      "15:30\n",
      "بى ان سبورت 5 HD\n",
      "فرنسا - - - لاتفيا\n",
      "16:30\n",
      "بى ان سبورت بريميوم 2\n",
      "بيرنلي - - - استون فيلا\n",
      "16:00\n",
      "بى ان سبورت بريميوم 1\n",
      "شيفيلد يونايتد - - - مانشستر سيتي\n",
      "16:00\n",
      "بى ان سبورت بريميوم 1\n",
      "نيوكاسل - - - ليفربول\n",
      "18:30\n",
      "بى ان سبورت 1HD\n",
      "فياريال - - - برشلونة\n",
      "18:30\n",
      "بى ان سبورت 4 HD\n",
      "فالنسيا - - - أوساسونا\n",
      "20:30\n",
      "بى ان سبورت 1HD\n",
      "اتليتك بلباو - - - ريال بيتيس\n",
      "22:30\n",
      "Skipping this match due to missing information.\n",
      "Skipping this match due to missing information.\n",
      "Skipping this match due to missing information.\n",
      "الاتحاد العربي لكرة اليد Youtube\n",
      "الزمالك - - - نادي الكويت\n",
      "19:30\n",
      "Starz Play App\n",
      "يوفنتوس - - - بولونيا\n",
      "19:30\n",
      "Starz Play App\n",
      "فيورنتينا - - - ليتشي\n",
      "19:30\n",
      "Starz Play App\n",
      "لاتسيو - - - جنوى\n",
      "21:45\n",
      "Starz Play App\n",
      "نابولي - - - ساسولو\n",
      "21:45\n",
      "بى ان سبورت اكسترا 1\n",
      "ماينز - - - آ. فرانكفورت\n",
      "16:30\n",
      "بى ان سبورت 3 HD\n",
      "بايرن ميونيخ - - - أوجسبورج\n",
      "18:30\n",
      "بى ان سبورت 2 HD\n",
      "رين - - - لوهافر\n",
      "14:00\n",
      "بى ان سبورت 4 HD\n",
      "مونبيليه - - - ريمس\n",
      "16:00\n",
      "بى ان سبورت 6 HD\n",
      "ستراسبورج - - - تولوز\n",
      "16:00\n",
      "بى ان سبورت 3 HD\n",
      "كليرمونت - - - ميتز\n",
      "16:00\n",
      "بى ان سبورت 2 HD\n",
      "لوريان - - - ليل\n",
      "18:05\n",
      "بى ان سبورت 3 HD\n",
      "نيس - - - ليون\n",
      "21:45\n",
      "Skipping this match due to missing information.\n",
      "Skipping this match due to missing information.\n",
      "بى ان سبورت تركيا\n",
      "قيصري سبور - - - سامسون سبور\n",
      "19:15\n",
      "بى ان سبورت تركيا\n",
      "فاتح كاراجومروك - - - أنقرة جوتشو\n",
      "19:15\n",
      "بى ان سبورت تركيا\n",
      "ألانيا سبور - - - هاتاي سبور\n",
      "21:45\n",
      "Skipping this match due to missing information.\n",
      "Skipping this match due to missing information.\n",
      "Skipping this match due to missing information.\n",
      "Skipping this match due to missing information.\n",
      "Skipping this match due to missing information.\n",
      "Skipping this match due to missing information.\n",
      "Skipping this match due to missing information.\n",
      "Skipping this match due to missing information.\n",
      "Skipping this match due to missing information.\n",
      "Skipping this match due to missing information.\n",
      "Skipping this match due to missing information.\n",
      "Skipping this match due to missing information.\n",
      "Skipping this match due to missing information.\n"
     ]
    }
   ],
   "source": [
    "for i in range(len(championships)):\n",
    "    matches_file = open(\"YallaKora.txt\", \"a\", encoding=\"utf-8\")\n",
    "    matches_file.write(f'======={championships[i].contents[1].find(\"h2\").text.strip()}=======\\n')\n",
    "    matches = championships[i].contents[3].find_all('li')\n",
    "    for j in range(len(matches)):\n",
    "        teamA_element = matches[j].find('div', {'class': 'teamA'})\n",
    "        teamB_element = matches[j].find('div', {'class': 'teamB'})\n",
    "        result = matches[j].find_all('span', {'class': 'score'})\n",
    "        time_element = matches[j].find('span', {'class': 'time'})\n",
    "        channel_element = matches[j].find('div', {'class': 'channel'})\n",
    "\n",
    "        if teamA_element and teamB_element and result and time_element and channel_element:\n",
    "            teamA = teamA_element.text.strip()\n",
    "            teamB = teamB_element.text.strip()\n",
    "            score = f'{result[0].text.strip()} - {result[1].text.strip()}'\n",
    "            time = time_element.text.strip()\n",
    "            channel = channel_element.text.strip()\n",
    "            print(channel)\n",
    "            print(teamA, score, teamB)\n",
    "            print(time)\n",
    "\n",
    "            matches_file.write(f'{channel} {teamA} {score} {teamB} {time}\\n')\n",
    "            \n",
    "        else:\n",
    "            print(\"Skipping this match due to missing information.\")\n"
   ]
  }
 ],
 "metadata": {
  "kernelspec": {
   "display_name": "Python 3",
   "language": "python",
   "name": "python3"
  },
  "language_info": {
   "codemirror_mode": {
    "name": "ipython",
    "version": 3
   },
   "file_extension": ".py",
   "mimetype": "text/x-python",
   "name": "python",
   "nbconvert_exporter": "python",
   "pygments_lexer": "ipython3",
   "version": "3.11.4"
  },
  "orig_nbformat": 4
 },
 "nbformat": 4,
 "nbformat_minor": 2
}
